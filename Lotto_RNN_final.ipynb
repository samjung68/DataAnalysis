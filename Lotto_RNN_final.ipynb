{
 "cells": [
  {
   "cell_type": "markdown",
   "metadata": {},
   "source": [
    "## 1등 당첨번호 데이터 가져오기 : 동행복권 사이트에서 엑셀 다운로드\n",
    "\n",
    "https://dhlottery.co.kr/gameResult.do?method=byWin"
   ]
  },
  {
   "cell_type": "code",
   "execution_count": 1,
   "metadata": {},
   "outputs": [],
   "source": [
    "import pandas as pd\n",
    "import numpy as np\n",
    "\n",
    "lotto = pd.read_csv(\"../data/lotto.csv\", encoding=\"utf-8\")"
   ]
  },
  {
   "cell_type": "code",
   "execution_count": 2,
   "metadata": {},
   "outputs": [
    {
     "data": {
      "text/html": [
       "<div>\n",
       "<style scoped>\n",
       "    .dataframe tbody tr th:only-of-type {\n",
       "        vertical-align: middle;\n",
       "    }\n",
       "\n",
       "    .dataframe tbody tr th {\n",
       "        vertical-align: top;\n",
       "    }\n",
       "\n",
       "    .dataframe thead th {\n",
       "        text-align: right;\n",
       "    }\n",
       "</style>\n",
       "<table border=\"1\" class=\"dataframe\">\n",
       "  <thead>\n",
       "    <tr style=\"text-align: right;\">\n",
       "      <th></th>\n",
       "      <th>회차별 추첨결과</th>\n",
       "      <th>Unnamed: 1</th>\n",
       "      <th>Unnamed: 2</th>\n",
       "      <th>Unnamed: 3</th>\n",
       "      <th>Unnamed: 4</th>\n",
       "      <th>Unnamed: 5</th>\n",
       "      <th>Unnamed: 6</th>\n",
       "      <th>Unnamed: 7</th>\n",
       "      <th>Unnamed: 8</th>\n",
       "      <th>Unnamed: 9</th>\n",
       "      <th>Unnamed: 10</th>\n",
       "      <th>Unnamed: 11</th>\n",
       "      <th>Unnamed: 12</th>\n",
       "      <th>Unnamed: 13</th>\n",
       "      <th>Unnamed: 14</th>\n",
       "      <th>Unnamed: 15</th>\n",
       "      <th>Unnamed: 16</th>\n",
       "      <th>Unnamed: 17</th>\n",
       "      <th>Unnamed: 18</th>\n",
       "      <th>Unnamed: 19</th>\n",
       "    </tr>\n",
       "  </thead>\n",
       "  <tbody>\n",
       "    <tr>\n",
       "      <th>0</th>\n",
       "      <td>년도</td>\n",
       "      <td>회차</td>\n",
       "      <td>추첨일</td>\n",
       "      <td>1등</td>\n",
       "      <td>NaN</td>\n",
       "      <td>2등</td>\n",
       "      <td>NaN</td>\n",
       "      <td>3등</td>\n",
       "      <td>NaN</td>\n",
       "      <td>4등</td>\n",
       "      <td>NaN</td>\n",
       "      <td>5등</td>\n",
       "      <td>NaN</td>\n",
       "      <td>당첨번호</td>\n",
       "      <td>NaN</td>\n",
       "      <td>NaN</td>\n",
       "      <td>NaN</td>\n",
       "      <td>NaN</td>\n",
       "      <td>NaN</td>\n",
       "      <td>NaN</td>\n",
       "    </tr>\n",
       "    <tr>\n",
       "      <th>1</th>\n",
       "      <td>NaN</td>\n",
       "      <td>NaN</td>\n",
       "      <td>NaN</td>\n",
       "      <td>당첨자수</td>\n",
       "      <td>당첨금액</td>\n",
       "      <td>당첨자수</td>\n",
       "      <td>당첨금액</td>\n",
       "      <td>당첨자수</td>\n",
       "      <td>당첨금액</td>\n",
       "      <td>당첨자수</td>\n",
       "      <td>당첨금액</td>\n",
       "      <td>당첨자수</td>\n",
       "      <td>당첨금액</td>\n",
       "      <td>1</td>\n",
       "      <td>2.0</td>\n",
       "      <td>3.0</td>\n",
       "      <td>4.0</td>\n",
       "      <td>5.0</td>\n",
       "      <td>6.0</td>\n",
       "      <td>보너스</td>\n",
       "    </tr>\n",
       "    <tr>\n",
       "      <th>2</th>\n",
       "      <td>2020</td>\n",
       "      <td>920</td>\n",
       "      <td>2020.07.18</td>\n",
       "      <td>7</td>\n",
       "      <td>3,120,260,197원</td>\n",
       "      <td>53</td>\n",
       "      <td>68,684,973원</td>\n",
       "      <td>2,348</td>\n",
       "      <td>1,550,385원</td>\n",
       "      <td>117,181</td>\n",
       "      <td>50,000원</td>\n",
       "      <td>1,984,222</td>\n",
       "      <td>5,000원</td>\n",
       "      <td>2</td>\n",
       "      <td>3.0</td>\n",
       "      <td>26.0</td>\n",
       "      <td>33.0</td>\n",
       "      <td>34.0</td>\n",
       "      <td>43.0</td>\n",
       "      <td>29</td>\n",
       "    </tr>\n",
       "    <tr>\n",
       "      <th>3</th>\n",
       "      <td>NaN</td>\n",
       "      <td>919</td>\n",
       "      <td>2020.07.11</td>\n",
       "      <td>5</td>\n",
       "      <td>4,305,150,450원</td>\n",
       "      <td>56</td>\n",
       "      <td>64,064,739원</td>\n",
       "      <td>2,541</td>\n",
       "      <td>1,411,896원</td>\n",
       "      <td>122,864</td>\n",
       "      <td>50,000원</td>\n",
       "      <td>2,052,965</td>\n",
       "      <td>5,000원</td>\n",
       "      <td>9</td>\n",
       "      <td>14.0</td>\n",
       "      <td>17.0</td>\n",
       "      <td>18.0</td>\n",
       "      <td>42.0</td>\n",
       "      <td>44.0</td>\n",
       "      <td>35</td>\n",
       "    </tr>\n",
       "    <tr>\n",
       "      <th>4</th>\n",
       "      <td>NaN</td>\n",
       "      <td>918</td>\n",
       "      <td>2020.07.04</td>\n",
       "      <td>18</td>\n",
       "      <td>1,117,622,646원</td>\n",
       "      <td>86</td>\n",
       "      <td>38,986,837원</td>\n",
       "      <td>2,718</td>\n",
       "      <td>1,233,580원</td>\n",
       "      <td>137,216</td>\n",
       "      <td>50,000원</td>\n",
       "      <td>2,183,337</td>\n",
       "      <td>5,000원</td>\n",
       "      <td>7</td>\n",
       "      <td>11.0</td>\n",
       "      <td>12.0</td>\n",
       "      <td>31.0</td>\n",
       "      <td>33.0</td>\n",
       "      <td>38.0</td>\n",
       "      <td>5</td>\n",
       "    </tr>\n",
       "  </tbody>\n",
       "</table>\n",
       "</div>"
      ],
      "text/plain": [
       "  회차별 추첨결과 Unnamed: 1  Unnamed: 2 Unnamed: 3      Unnamed: 4 Unnamed: 5  \\\n",
       "0       년도         회차         추첨일         1등             NaN         2등   \n",
       "1      NaN        NaN         NaN       당첨자수            당첨금액       당첨자수   \n",
       "2     2020        920  2020.07.18          7  3,120,260,197원         53   \n",
       "3      NaN        919  2020.07.11          5  4,305,150,450원         56   \n",
       "4      NaN        918  2020.07.04         18  1,117,622,646원         86   \n",
       "\n",
       "    Unnamed: 6 Unnamed: 7  Unnamed: 8 Unnamed: 9 Unnamed: 10 Unnamed: 11  \\\n",
       "0          NaN         3등         NaN         4등         NaN          5등   \n",
       "1         당첨금액       당첨자수        당첨금액       당첨자수        당첨금액        당첨자수   \n",
       "2  68,684,973원      2,348  1,550,385원    117,181     50,000원   1,984,222   \n",
       "3  64,064,739원      2,541  1,411,896원    122,864     50,000원   2,052,965   \n",
       "4  38,986,837원      2,718  1,233,580원    137,216     50,000원   2,183,337   \n",
       "\n",
       "  Unnamed: 12 Unnamed: 13  Unnamed: 14  Unnamed: 15  Unnamed: 16  Unnamed: 17  \\\n",
       "0         NaN        당첨번호          NaN          NaN          NaN          NaN   \n",
       "1        당첨금액           1          2.0          3.0          4.0          5.0   \n",
       "2      5,000원           2          3.0         26.0         33.0         34.0   \n",
       "3      5,000원           9         14.0         17.0         18.0         42.0   \n",
       "4      5,000원           7         11.0         12.0         31.0         33.0   \n",
       "\n",
       "   Unnamed: 18 Unnamed: 19  \n",
       "0          NaN         NaN  \n",
       "1          6.0         보너스  \n",
       "2         43.0          29  \n",
       "3         44.0          35  \n",
       "4         38.0           5  "
      ]
     },
     "execution_count": 2,
     "metadata": {},
     "output_type": "execute_result"
    }
   ],
   "source": [
    "lotto.head()"
   ]
  },
  {
   "cell_type": "code",
   "execution_count": 3,
   "metadata": {},
   "outputs": [],
   "source": [
    "lotto.rename(columns={'1':\"n1\", '2':\"n2\", '3':\"n3\", '4':'n4', '5':'n5', '6':'n6'}, inplace=True)"
   ]
  },
  {
   "cell_type": "code",
   "execution_count": 4,
   "metadata": {},
   "outputs": [
    {
     "data": {
      "text/html": [
       "<div>\n",
       "<style scoped>\n",
       "    .dataframe tbody tr th:only-of-type {\n",
       "        vertical-align: middle;\n",
       "    }\n",
       "\n",
       "    .dataframe tbody tr th {\n",
       "        vertical-align: top;\n",
       "    }\n",
       "\n",
       "    .dataframe thead th {\n",
       "        text-align: right;\n",
       "    }\n",
       "</style>\n",
       "<table border=\"1\" class=\"dataframe\">\n",
       "  <thead>\n",
       "    <tr style=\"text-align: right;\">\n",
       "      <th></th>\n",
       "      <th>회차별 추첨결과</th>\n",
       "      <th>Unnamed: 1</th>\n",
       "      <th>Unnamed: 2</th>\n",
       "      <th>Unnamed: 3</th>\n",
       "      <th>Unnamed: 4</th>\n",
       "      <th>Unnamed: 5</th>\n",
       "      <th>Unnamed: 6</th>\n",
       "      <th>Unnamed: 7</th>\n",
       "      <th>Unnamed: 8</th>\n",
       "      <th>Unnamed: 9</th>\n",
       "      <th>Unnamed: 10</th>\n",
       "      <th>Unnamed: 11</th>\n",
       "      <th>Unnamed: 12</th>\n",
       "      <th>Unnamed: 13</th>\n",
       "      <th>Unnamed: 14</th>\n",
       "      <th>Unnamed: 15</th>\n",
       "      <th>Unnamed: 16</th>\n",
       "      <th>Unnamed: 17</th>\n",
       "      <th>Unnamed: 18</th>\n",
       "      <th>Unnamed: 19</th>\n",
       "    </tr>\n",
       "  </thead>\n",
       "  <tbody>\n",
       "    <tr>\n",
       "      <th>0</th>\n",
       "      <td>년도</td>\n",
       "      <td>회차</td>\n",
       "      <td>추첨일</td>\n",
       "      <td>1등</td>\n",
       "      <td>NaN</td>\n",
       "      <td>2등</td>\n",
       "      <td>NaN</td>\n",
       "      <td>3등</td>\n",
       "      <td>NaN</td>\n",
       "      <td>4등</td>\n",
       "      <td>NaN</td>\n",
       "      <td>5등</td>\n",
       "      <td>NaN</td>\n",
       "      <td>당첨번호</td>\n",
       "      <td>NaN</td>\n",
       "      <td>NaN</td>\n",
       "      <td>NaN</td>\n",
       "      <td>NaN</td>\n",
       "      <td>NaN</td>\n",
       "      <td>NaN</td>\n",
       "    </tr>\n",
       "    <tr>\n",
       "      <th>1</th>\n",
       "      <td>NaN</td>\n",
       "      <td>NaN</td>\n",
       "      <td>NaN</td>\n",
       "      <td>당첨자수</td>\n",
       "      <td>당첨금액</td>\n",
       "      <td>당첨자수</td>\n",
       "      <td>당첨금액</td>\n",
       "      <td>당첨자수</td>\n",
       "      <td>당첨금액</td>\n",
       "      <td>당첨자수</td>\n",
       "      <td>당첨금액</td>\n",
       "      <td>당첨자수</td>\n",
       "      <td>당첨금액</td>\n",
       "      <td>1</td>\n",
       "      <td>2.0</td>\n",
       "      <td>3.0</td>\n",
       "      <td>4.0</td>\n",
       "      <td>5.0</td>\n",
       "      <td>6.0</td>\n",
       "      <td>보너스</td>\n",
       "    </tr>\n",
       "    <tr>\n",
       "      <th>2</th>\n",
       "      <td>2020</td>\n",
       "      <td>920</td>\n",
       "      <td>2020.07.18</td>\n",
       "      <td>7</td>\n",
       "      <td>3,120,260,197원</td>\n",
       "      <td>53</td>\n",
       "      <td>68,684,973원</td>\n",
       "      <td>2,348</td>\n",
       "      <td>1,550,385원</td>\n",
       "      <td>117,181</td>\n",
       "      <td>50,000원</td>\n",
       "      <td>1,984,222</td>\n",
       "      <td>5,000원</td>\n",
       "      <td>2</td>\n",
       "      <td>3.0</td>\n",
       "      <td>26.0</td>\n",
       "      <td>33.0</td>\n",
       "      <td>34.0</td>\n",
       "      <td>43.0</td>\n",
       "      <td>29</td>\n",
       "    </tr>\n",
       "    <tr>\n",
       "      <th>3</th>\n",
       "      <td>NaN</td>\n",
       "      <td>919</td>\n",
       "      <td>2020.07.11</td>\n",
       "      <td>5</td>\n",
       "      <td>4,305,150,450원</td>\n",
       "      <td>56</td>\n",
       "      <td>64,064,739원</td>\n",
       "      <td>2,541</td>\n",
       "      <td>1,411,896원</td>\n",
       "      <td>122,864</td>\n",
       "      <td>50,000원</td>\n",
       "      <td>2,052,965</td>\n",
       "      <td>5,000원</td>\n",
       "      <td>9</td>\n",
       "      <td>14.0</td>\n",
       "      <td>17.0</td>\n",
       "      <td>18.0</td>\n",
       "      <td>42.0</td>\n",
       "      <td>44.0</td>\n",
       "      <td>35</td>\n",
       "    </tr>\n",
       "    <tr>\n",
       "      <th>4</th>\n",
       "      <td>NaN</td>\n",
       "      <td>918</td>\n",
       "      <td>2020.07.04</td>\n",
       "      <td>18</td>\n",
       "      <td>1,117,622,646원</td>\n",
       "      <td>86</td>\n",
       "      <td>38,986,837원</td>\n",
       "      <td>2,718</td>\n",
       "      <td>1,233,580원</td>\n",
       "      <td>137,216</td>\n",
       "      <td>50,000원</td>\n",
       "      <td>2,183,337</td>\n",
       "      <td>5,000원</td>\n",
       "      <td>7</td>\n",
       "      <td>11.0</td>\n",
       "      <td>12.0</td>\n",
       "      <td>31.0</td>\n",
       "      <td>33.0</td>\n",
       "      <td>38.0</td>\n",
       "      <td>5</td>\n",
       "    </tr>\n",
       "  </tbody>\n",
       "</table>\n",
       "</div>"
      ],
      "text/plain": [
       "  회차별 추첨결과 Unnamed: 1  Unnamed: 2 Unnamed: 3      Unnamed: 4 Unnamed: 5  \\\n",
       "0       년도         회차         추첨일         1등             NaN         2등   \n",
       "1      NaN        NaN         NaN       당첨자수            당첨금액       당첨자수   \n",
       "2     2020        920  2020.07.18          7  3,120,260,197원         53   \n",
       "3      NaN        919  2020.07.11          5  4,305,150,450원         56   \n",
       "4      NaN        918  2020.07.04         18  1,117,622,646원         86   \n",
       "\n",
       "    Unnamed: 6 Unnamed: 7  Unnamed: 8 Unnamed: 9 Unnamed: 10 Unnamed: 11  \\\n",
       "0          NaN         3등         NaN         4등         NaN          5등   \n",
       "1         당첨금액       당첨자수        당첨금액       당첨자수        당첨금액        당첨자수   \n",
       "2  68,684,973원      2,348  1,550,385원    117,181     50,000원   1,984,222   \n",
       "3  64,064,739원      2,541  1,411,896원    122,864     50,000원   2,052,965   \n",
       "4  38,986,837원      2,718  1,233,580원    137,216     50,000원   2,183,337   \n",
       "\n",
       "  Unnamed: 12 Unnamed: 13  Unnamed: 14  Unnamed: 15  Unnamed: 16  Unnamed: 17  \\\n",
       "0         NaN        당첨번호          NaN          NaN          NaN          NaN   \n",
       "1        당첨금액           1          2.0          3.0          4.0          5.0   \n",
       "2      5,000원           2          3.0         26.0         33.0         34.0   \n",
       "3      5,000원           9         14.0         17.0         18.0         42.0   \n",
       "4      5,000원           7         11.0         12.0         31.0         33.0   \n",
       "\n",
       "   Unnamed: 18 Unnamed: 19  \n",
       "0          NaN         NaN  \n",
       "1          6.0         보너스  \n",
       "2         43.0          29  \n",
       "3         44.0          35  \n",
       "4         38.0           5  "
      ]
     },
     "execution_count": 4,
     "metadata": {},
     "output_type": "execute_result"
    }
   ],
   "source": [
    "lotto.head()"
   ]
  },
  {
   "cell_type": "code",
   "execution_count": null,
   "metadata": {},
   "outputs": [],
   "source": [
    "lotto.info()"
   ]
  },
  {
   "cell_type": "code",
   "execution_count": null,
   "metadata": {},
   "outputs": [],
   "source": [
    "lotto['year'], lotto['month'] = pd.to_datetime(lotto.date).dt.year, pd.to_datetime(lotto.date).dt.month\n",
    "del lotto['date']"
   ]
  },
  {
   "cell_type": "code",
   "execution_count": null,
   "metadata": {},
   "outputs": [],
   "source": [
    "lotto['n1'] = lotto.n1.astype('category')\n",
    "lotto['n2'] = lotto.n2.astype('category')\n",
    "lotto['n3'] = lotto.n3.astype('category')\n",
    "lotto['n4'] = lotto.n4.astype('category')\n",
    "lotto['n5'] = lotto.n5.astype('category')\n",
    "lotto['n6'] = lotto.n6.astype('category')"
   ]
  },
  {
   "cell_type": "code",
   "execution_count": null,
   "metadata": {},
   "outputs": [],
   "source": [
    "lotto.sort_values(by='round', ascending=True, inplace=True) "
   ]
  },
  {
   "cell_type": "code",
   "execution_count": null,
   "metadata": {},
   "outputs": [],
   "source": [
    "lotto.index = lotto['round']"
   ]
  },
  {
   "cell_type": "code",
   "execution_count": null,
   "metadata": {},
   "outputs": [],
   "source": [
    "del lotto['round']"
   ]
  },
  {
   "cell_type": "code",
   "execution_count": null,
   "metadata": {},
   "outputs": [],
   "source": [
    "lotto.head()"
   ]
  },
  {
   "cell_type": "code",
   "execution_count": null,
   "metadata": {},
   "outputs": [],
   "source": [
    "lotto['1등_당첨금액'] = lotto['1등_당첨금액'].str.replace(\",\", \"\")\n",
    "lotto['1등_당첨금액'] = lotto['1등_당첨금액'].str.replace(\"원\", \"\")\n",
    "lotto['1등_당첨금액'] = lotto['1등_당첨금액'].astype('int64')"
   ]
  },
  {
   "cell_type": "code",
   "execution_count": null,
   "metadata": {},
   "outputs": [],
   "source": [
    "lotto['2등_당첨금액'] = lotto['2등_당첨금액'].str.replace(\",\", \"\")\n",
    "lotto['2등_당첨금액'] = lotto['2등_당첨금액'].str.replace(\"원\", \"\")\n",
    "lotto['2등_당첨금액'] = lotto['2등_당첨금액'].astype('int64')"
   ]
  },
  {
   "cell_type": "code",
   "execution_count": null,
   "metadata": {},
   "outputs": [],
   "source": [
    "lotto['3등_당첨금액'] = lotto['3등_당첨금액'].str.replace(\",\", \"\")\n",
    "lotto['3등_당첨금액'] = lotto['3등_당첨금액'].str.replace(\"원\", \"\")\n",
    "lotto['3등_당첨금액'] = lotto['3등_당첨금액'].astype('int64')"
   ]
  },
  {
   "cell_type": "code",
   "execution_count": null,
   "metadata": {},
   "outputs": [],
   "source": [
    "lotto.info()"
   ]
  },
  {
   "cell_type": "code",
   "execution_count": null,
   "metadata": {},
   "outputs": [],
   "source": [
    "lotto_num = lotto[['n1', 'n2', 'n3', 'n4', 'n5', 'n6']]"
   ]
  },
  {
   "cell_type": "code",
   "execution_count": null,
   "metadata": {},
   "outputs": [],
   "source": [
    "lotto_num"
   ]
  },
  {
   "cell_type": "code",
   "execution_count": null,
   "metadata": {},
   "outputs": [],
   "source": [
    "lotto_num.to_csv(\"../data/lotto.num.csv\")"
   ]
  },
  {
   "cell_type": "code",
   "execution_count": 64,
   "metadata": {},
   "outputs": [
    {
     "data": {
      "text/html": [
       "<div>\n",
       "<style scoped>\n",
       "    .dataframe tbody tr th:only-of-type {\n",
       "        vertical-align: middle;\n",
       "    }\n",
       "\n",
       "    .dataframe tbody tr th {\n",
       "        vertical-align: top;\n",
       "    }\n",
       "\n",
       "    .dataframe thead th {\n",
       "        text-align: right;\n",
       "    }\n",
       "</style>\n",
       "<table border=\"1\" class=\"dataframe\">\n",
       "  <thead>\n",
       "    <tr style=\"text-align: right;\">\n",
       "      <th></th>\n",
       "      <th>n1</th>\n",
       "      <th>n2</th>\n",
       "      <th>n3</th>\n",
       "      <th>n4</th>\n",
       "      <th>n5</th>\n",
       "      <th>n6</th>\n",
       "    </tr>\n",
       "    <tr>\n",
       "      <th>round</th>\n",
       "      <th></th>\n",
       "      <th></th>\n",
       "      <th></th>\n",
       "      <th></th>\n",
       "      <th></th>\n",
       "      <th></th>\n",
       "    </tr>\n",
       "  </thead>\n",
       "  <tbody>\n",
       "    <tr>\n",
       "      <th>1</th>\n",
       "      <td>10</td>\n",
       "      <td>23</td>\n",
       "      <td>29</td>\n",
       "      <td>33</td>\n",
       "      <td>37</td>\n",
       "      <td>40</td>\n",
       "    </tr>\n",
       "    <tr>\n",
       "      <th>2</th>\n",
       "      <td>9</td>\n",
       "      <td>13</td>\n",
       "      <td>21</td>\n",
       "      <td>25</td>\n",
       "      <td>32</td>\n",
       "      <td>42</td>\n",
       "    </tr>\n",
       "    <tr>\n",
       "      <th>3</th>\n",
       "      <td>11</td>\n",
       "      <td>16</td>\n",
       "      <td>19</td>\n",
       "      <td>21</td>\n",
       "      <td>27</td>\n",
       "      <td>31</td>\n",
       "    </tr>\n",
       "    <tr>\n",
       "      <th>4</th>\n",
       "      <td>14</td>\n",
       "      <td>27</td>\n",
       "      <td>30</td>\n",
       "      <td>31</td>\n",
       "      <td>40</td>\n",
       "      <td>42</td>\n",
       "    </tr>\n",
       "    <tr>\n",
       "      <th>5</th>\n",
       "      <td>16</td>\n",
       "      <td>24</td>\n",
       "      <td>29</td>\n",
       "      <td>40</td>\n",
       "      <td>41</td>\n",
       "      <td>42</td>\n",
       "    </tr>\n",
       "  </tbody>\n",
       "</table>\n",
       "</div>"
      ],
      "text/plain": [
       "       n1  n2  n3  n4  n5  n6\n",
       "round                        \n",
       "1      10  23  29  33  37  40\n",
       "2       9  13  21  25  32  42\n",
       "3      11  16  19  21  27  31\n",
       "4      14  27  30  31  40  42\n",
       "5      16  24  29  40  41  42"
      ]
     },
     "execution_count": 64,
     "metadata": {},
     "output_type": "execute_result"
    }
   ],
   "source": [
    "import numpy as np\n",
    "import pandas as pd\n",
    "\n",
    "lotto_num = pd.read_csv(\"../data/lotto_num.csv\", index_col=\"round\")\n",
    "lotto_num.head()"
   ]
  },
  {
   "cell_type": "code",
   "execution_count": 65,
   "metadata": {},
   "outputs": [
    {
     "data": {
      "text/plain": [
       "919"
      ]
     },
     "execution_count": 65,
     "metadata": {},
     "output_type": "execute_result"
    }
   ],
   "source": [
    "rows = np.array(lotto_num)\n",
    "row_count = len(rows)\n",
    "row_count"
   ]
  },
  {
   "cell_type": "code",
   "execution_count": 66,
   "metadata": {},
   "outputs": [
    {
     "data": {
      "text/plain": [
       "array([[10, 23, 29, 33, 37, 40],\n",
       "       [ 9, 13, 21, 25, 32, 42],\n",
       "       [11, 16, 19, 21, 27, 31],\n",
       "       ...,\n",
       "       [ 1,  3, 23, 24, 27, 43],\n",
       "       [ 7, 11, 12, 31, 33, 38],\n",
       "       [ 9, 14, 17, 18, 42, 44]], dtype=int64)"
      ]
     },
     "execution_count": 66,
     "metadata": {},
     "output_type": "execute_result"
    }
   ],
   "source": [
    "rows"
   ]
  },
  {
   "cell_type": "markdown",
   "metadata": {},
   "source": [
    "#### 1) Normalize : MinMaxScaler for a Regression Model"
   ]
  },
  {
   "cell_type": "code",
   "execution_count": 67,
   "metadata": {},
   "outputs": [],
   "source": [
    "from sklearn.preprocessing import MinMaxScaler\n",
    "scaler = MinMaxScaler()\n",
    "\n",
    "scaler.fit(rows)\n",
    "train_scaled = scaler.transform(rows)"
   ]
  },
  {
   "cell_type": "code",
   "execution_count": 68,
   "metadata": {},
   "outputs": [
    {
     "data": {
      "text/plain": [
       "919"
      ]
     },
     "execution_count": 68,
     "metadata": {},
     "output_type": "execute_result"
    }
   ],
   "source": [
    "train_scaled\n",
    "len(train_scaled)"
   ]
  },
  {
   "cell_type": "code",
   "execution_count": 69,
   "metadata": {},
   "outputs": [],
   "source": [
    "seq_len = 5\n",
    "sequence_length = seq_len + 1\n",
    "\n",
    "train_seq  = []\n",
    "for index in range(len(train_scaled) - sequence_length + 1):\n",
    "    train_seq.append(train_scaled[index: index + sequence_length])"
   ]
  },
  {
   "cell_type": "code",
   "execution_count": 70,
   "metadata": {},
   "outputs": [
    {
     "data": {
      "text/plain": [
       "(914, 6, 6)"
      ]
     },
     "execution_count": 70,
     "metadata": {},
     "output_type": "execute_result"
    }
   ],
   "source": [
    "train_scaled_seq = np.array(train_seq)\n",
    "train_scaled_seq.shape"
   ]
  },
  {
   "cell_type": "code",
   "execution_count": 71,
   "metadata": {},
   "outputs": [
    {
     "data": {
      "text/plain": [
       "((914, 5, 6), (914, 6))"
      ]
     },
     "execution_count": 71,
     "metadata": {},
     "output_type": "execute_result"
    }
   ],
   "source": [
    "X = train_scaled_seq[:, :-1]\n",
    "y = train_scaled_seq[:, -1]\n",
    "\n",
    "X.shape, y.shape"
   ]
  },
  {
   "cell_type": "code",
   "execution_count": 72,
   "metadata": {},
   "outputs": [
    {
     "data": {
      "text/plain": [
       "((900, 5, 6), (900, 6))"
      ]
     },
     "execution_count": 72,
     "metadata": {},
     "output_type": "execute_result"
    }
   ],
   "source": [
    "x_train = X[:900]\n",
    "y_train = y[:900]\n",
    "\n",
    "x_train.shape, y_train.shape"
   ]
  },
  {
   "cell_type": "code",
   "execution_count": 73,
   "metadata": {},
   "outputs": [
    {
     "data": {
      "text/plain": [
       "((14, 5, 6), (14, 6))"
      ]
     },
     "execution_count": 73,
     "metadata": {},
     "output_type": "execute_result"
    }
   ],
   "source": [
    "x_test = X[900:]\n",
    "y_test = y[900:]\n",
    "\n",
    "x_test.shape, y_test.shape"
   ]
  },
  {
   "cell_type": "markdown",
   "metadata": {},
   "source": [
    "#### 2) Normalize : One-hot encoding for a Classification Model "
   ]
  },
  {
   "cell_type": "code",
   "execution_count": 5,
   "metadata": {},
   "outputs": [],
   "source": [
    "import numpy as np\n",
    "\n",
    "def numbers2ohbin(numbers):\n",
    "    ohbin = np.zeros(45)\n",
    "    for i in range(6):\n",
    "        ohbin[int(numbers[i])-1] = 1 \n",
    "    return ohbin\n",
    "\n",
    "def ohbin2numbers(ohbin):\n",
    "    numbers = []\n",
    "    for i in range(len(ohbin)):\n",
    "        if ohbin[i] == 1.0:\n",
    "            numbers.append(i+1)\n",
    "    return numbers"
   ]
  },
  {
   "cell_type": "markdown",
   "metadata": {},
   "source": [
    "* Converting integer numbers into categorcal format"
   ]
  },
  {
   "cell_type": "code",
   "execution_count": 6,
   "metadata": {},
   "outputs": [
    {
     "name": "stdout",
     "output_type": "stream",
     "text": [
      "1:[0. 0. 0. 0. 0. 0. 0. 0. 0. 1. 0. 0. 0. 0. 0. 0. 0. 0. 0. 0. 0. 0. 1. 0.\n",
      " 0. 0. 0. 0. 1. 0. 0. 0. 1. 0. 0. 0. 1. 0. 0. 1. 0. 0. 0. 0. 0.]\n",
      "2:[0. 0. 0. 0. 0. 0. 0. 0. 1. 0. 0. 0. 1. 0. 0. 0. 0. 0. 0. 0. 1. 0. 0. 0.\n",
      " 1. 0. 0. 0. 0. 0. 0. 1. 0. 0. 0. 0. 0. 0. 0. 0. 0. 1. 0. 0. 0.]\n"
     ]
    }
   ],
   "source": [
    "print(\"1:\" + str(numbers2ohbin([10,23,29,33,37,40])))\n",
    "print(\"2:\" + str(numbers2ohbin([9,13,21,25,32,42])))"
   ]
  },
  {
   "cell_type": "code",
   "execution_count": 7,
   "metadata": {},
   "outputs": [
    {
     "data": {
      "text/plain": [
       "919"
      ]
     },
     "execution_count": 7,
     "metadata": {},
     "output_type": "execute_result"
    }
   ],
   "source": [
    "ohbins = list(map(numbers2ohbin, rows))\n",
    "len(ohbins)"
   ]
  },
  {
   "cell_type": "code",
   "execution_count": 8,
   "metadata": {},
   "outputs": [
    {
     "data": {
      "text/plain": [
       "800"
      ]
     },
     "execution_count": 8,
     "metadata": {},
     "output_type": "execute_result"
    }
   ],
   "source": [
    "train = ohbins[:800]\n",
    "len(train)"
   ]
  },
  {
   "cell_type": "code",
   "execution_count": 9,
   "metadata": {},
   "outputs": [
    {
     "data": {
      "text/plain": [
       "119"
      ]
     },
     "execution_count": 9,
     "metadata": {},
     "output_type": "execute_result"
    }
   ],
   "source": [
    "test = ohbins[800:len(ohbins)]\n",
    "len(test)"
   ]
  },
  {
   "cell_type": "code",
   "execution_count": 10,
   "metadata": {},
   "outputs": [],
   "source": [
    "def create_dataset(data, look_back):\n",
    "    dataX, dataY = [], []\n",
    "    for i in range(len(data)-look_back):\n",
    "        dataX.append(data[i:(i+look_back)])\n",
    "        dataY.append(data[i + look_back])\n",
    "    return np.array(dataX), np.array(dataY)"
   ]
  },
  {
   "cell_type": "code",
   "execution_count": 11,
   "metadata": {},
   "outputs": [],
   "source": [
    "look_back = 5\n",
    "\n",
    "x_train, y_train = create_dataset(train, look_back)"
   ]
  },
  {
   "cell_type": "code",
   "execution_count": 12,
   "metadata": {},
   "outputs": [
    {
     "data": {
      "text/plain": [
       "((795, 5, 45), (795, 45))"
      ]
     },
     "execution_count": 12,
     "metadata": {},
     "output_type": "execute_result"
    }
   ],
   "source": [
    "x_train.shape, y_train.shape"
   ]
  },
  {
   "cell_type": "code",
   "execution_count": 13,
   "metadata": {},
   "outputs": [],
   "source": [
    "look_back = 5\n",
    "\n",
    "x_test, y_test = create_dataset(test, look_back)"
   ]
  },
  {
   "cell_type": "code",
   "execution_count": 14,
   "metadata": {},
   "outputs": [
    {
     "data": {
      "text/plain": [
       "((114, 5, 45), (114, 45))"
      ]
     },
     "execution_count": 14,
     "metadata": {},
     "output_type": "execute_result"
    }
   ],
   "source": [
    "x_test.shape, y_test.shape"
   ]
  },
  {
   "cell_type": "code",
   "execution_count": 15,
   "metadata": {},
   "outputs": [
    {
     "data": {
      "text/plain": [
       "((795, 5, 45), (114, 5, 45))"
      ]
     },
     "execution_count": 15,
     "metadata": {},
     "output_type": "execute_result"
    }
   ],
   "source": [
    "x_train.shape, x_test.shape"
   ]
  },
  {
   "cell_type": "markdown",
   "metadata": {},
   "source": [
    "#### Build a RNN(LSTM) Model"
   ]
  },
  {
   "cell_type": "code",
   "execution_count": 74,
   "metadata": {},
   "outputs": [],
   "source": [
    "import os\n",
    "import tensorflow as tf\n",
    "import keras\n",
    "\n",
    "from tensorflow.keras.models import Sequential\n",
    "from tensorflow.keras.layers import Dense, LSTM, Dropout, Flatten\n",
    "from tensorflow import keras\n",
    "from tensorflow.keras.callbacks import ModelCheckpoint, EarlyStopping"
   ]
  },
  {
   "cell_type": "code",
   "execution_count": 75,
   "metadata": {},
   "outputs": [],
   "source": [
    "class CustomHistory(keras.callbacks.Callback):\n",
    "    def init(self):\n",
    "        self.train_loss = []\n",
    "        self.val_loss = []\n",
    "        self.train_acc = []  \n",
    "        self.val_acc = []  \n",
    "        \n",
    "    def on_epoch_end(self, batch, logs={}):\n",
    "        self.train_loss.append(logs.get('loss'))\n",
    "        self.val_loss.append(logs.get('val_loss'))\n",
    "        self.train_acc.append(logs.get('accuracy'))\n",
    "        self.val_acc.append(logs.get('val_accuracy'))"
   ]
  },
  {
   "cell_type": "code",
   "execution_count": 76,
   "metadata": {},
   "outputs": [],
   "source": [
    "MODEL_DIR = './model/'\n",
    "if not os.path.exists(MODEL_DIR):\n",
    "    os.mkdir(MODEL_DIR)\n",
    "    \n",
    "modelpath = \"./model/{val_loss:.4f}-{epoch:02d}.hdf5\"\n",
    "\n",
    "checkpointer = ModelCheckpoint(filepath=modelpath, monitor='val_loss', verbose=1, save_best_only=True)\n",
    "early_stopping_callback = EarlyStopping(monitor='val_loss', patience=100)\n",
    "\n",
    "# 현재 모델 저장하기: model.save('my_model.h5')\n",
    "# 저장된 모델 불러오기: new_model = keras.models.load_model('my_model.h5')\n",
    "# 모델 확인: new_model.summary()"
   ]
  },
  {
   "cell_type": "code",
   "execution_count": 77,
   "metadata": {},
   "outputs": [],
   "source": [
    "model = Sequential()\n",
    "model.add(LSTM(32, batch_input_shape=(1, 5, 6), stateful=True, return_sequences=True)) \n",
    "model.add(Dropout(0.3))\n",
    "model.add(LSTM(64, batch_input_shape=(1, 5, 6), stateful=True))  \n",
    "model.add(Dropout(0.3))  \n",
    "model.add(Dense(6, activation='softmax'))\n",
    "\n",
    "model.compile(loss='categorical_crossentropy', optimizer='adam', metrics=['accuracy'])"
   ]
  },
  {
   "cell_type": "markdown",
   "metadata": {},
   "source": [
    "#### Train the RNN Model"
   ]
  },
  {
   "cell_type": "code",
   "execution_count": null,
   "metadata": {
    "scrolled": true
   },
   "outputs": [],
   "source": [
    "custom_hist = CustomHistory()\n",
    "custom_hist.init()\n",
    "\n",
    "hist = model.fit(x_train, y_train, epochs=200, batch_size=1, validation_split=0.2, \n",
    "                 callbacks=[custom_hist, checkpointer, early_stopping_callback])"
   ]
  },
  {
   "cell_type": "code",
   "execution_count": 79,
   "metadata": {},
   "outputs": [
    {
     "data": {
      "image/png": "[encoded data removed]",
      "text/plain": [
       "<Figure size 720x432 with 2 Axes>"
      ]
     },
     "metadata": {
      "needs_background": "light"
     },
     "output_type": "display_data"
    }
   ],
   "source": [
    "%matplotlib inline\n",
    "import matplotlib.pyplot as plt\n",
    "\n",
    "fig, loss_ax = plt.subplots(figsize=(10,6))\n",
    "acc_ax = loss_ax.twinx()\n",
    "\n",
    "acc_ax.plot(custom_hist.train_acc, 'b', label='train acc')\n",
    "acc_ax.plot(custom_hist.val_acc, 'g', label='val acc')\n",
    "\n",
    "loss_ax.plot(custom_hist.train_loss, 'y', label='train loss')\n",
    "loss_ax.plot(custom_hist.val_loss, 'r', label='val loss')\n",
    "\n",
    "loss_ax.set_xlabel('epoch')\n",
    "loss_ax.set_ylabel('loss')\n",
    "acc_ax.set_ylabel('accuray')\n",
    "\n",
    "acc_ax.legend(loc='upper left', bbox_to_anchor=(1.15, 0.5))\n",
    "loss_ax.legend(loc='lower left', bbox_to_anchor=(1.15, 0.5))\n",
    "\n",
    "plt.show()"
   ]
  },
  {
   "cell_type": "markdown",
   "metadata": {},
   "source": [
    "## (모델 적용) 918회 로또번호 예측하기"
   ]
  },
  {
   "cell_type": "code",
   "execution_count": null,
   "metadata": {},
   "outputs": [],
   "source": [
    "numbers.shape\n",
    "numbers[917]"
   ]
  },
  {
   "cell_type": "code",
   "execution_count": null,
   "metadata": {},
   "outputs": [],
   "source": [
    "url = 'https://dhlottery.co.kr/gameResult.do?method=byWin'\n",
    "tables = pd.read_html(url)"
   ]
  },
  {
   "cell_type": "code",
   "execution_count": null,
   "metadata": {},
   "outputs": [],
   "source": [
    "tables[0].to_excel('lotto_prize.xls')\n",
    "tables[0]"
   ]
  },
  {
   "cell_type": "markdown",
   "metadata": {},
   "source": [
    "### *최근 6개의 번호로 918회 번호 예측 (7, 11, 12, 31, 33, 38)"
   ]
  },
  {
   "cell_type": "code",
   "execution_count": null,
   "metadata": {},
   "outputs": [],
   "source": [
    "x_test.shape"
   ]
  },
  {
   "cell_type": "code",
   "execution_count": null,
   "metadata": {},
   "outputs": [],
   "source": [
    "y_test.shape"
   ]
  },
  {
   "cell_type": "code",
   "execution_count": null,
   "metadata": {},
   "outputs": [],
   "source": [
    "lotto_918 = ohbin2numbers(y_test[-1])\n",
    "lotto_918"
   ]
  },
  {
   "cell_type": "code",
   "execution_count": null,
   "metadata": {},
   "outputs": [],
   "source": [
    "lotto_917 = ohbin2numbers(y_test[-2])\n",
    "lotto_917"
   ]
  },
  {
   "cell_type": "markdown",
   "metadata": {},
   "source": [
    "#### *테스트 데이터에서 2개의 batch 데이터를 넣어 917회, 918 회차 로또번호(6개)와 보너스번호(1개) 예측 "
   ]
  },
  {
   "cell_type": "code",
   "execution_count": null,
   "metadata": {},
   "outputs": [],
   "source": [
    "xs = x_test[-2:]\n",
    "xs.shape"
   ]
  },
  {
   "cell_type": "code",
   "execution_count": null,
   "metadata": {},
   "outputs": [],
   "source": [
    "pred = model.predict(xs)"
   ]
  },
  {
   "cell_type": "code",
   "execution_count": null,
   "metadata": {},
   "outputs": [],
   "source": [
    "numbers_918 = np.argsort(pred[-1])[::-1] + 1\n",
    "numbers_918"
   ]
  },
  {
   "cell_type": "code",
   "execution_count": null,
   "metadata": {},
   "outputs": [],
   "source": [
    "lotto_918 = sorted(numbers_918[:6])\n",
    "lotto_918"
   ]
  },
  {
   "cell_type": "code",
   "execution_count": null,
   "metadata": {},
   "outputs": [],
   "source": [
    "bonus_918 = numbers_918[6]\n",
    "bonus_918"
   ]
  },
  {
   "cell_type": "code",
   "execution_count": null,
   "metadata": {},
   "outputs": [],
   "source": [
    "print(\"918회차 로또번호(예측) :\" , lotto_918)\n",
    "print(\"918회차 보너스번호(예측) :\" , bonus_918)"
   ]
  },
  {
   "cell_type": "code",
   "execution_count": null,
   "metadata": {},
   "outputs": [],
   "source": [
    "numbers_917 = np.argsort(pred[-2])[::-1] + 1\n",
    "lotto_917 = sorted(numbers_917[:6])\n",
    "bonus_917 = numbers_917[6]\n",
    "\n",
    "print(\"917회차 로또번호 :\" , lotto_917)\n",
    "print(\"917회차 보너스번호 :\" , bonus_917)"
   ]
  },
  {
   "cell_type": "markdown",
   "metadata": {},
   "source": [
    "# #References"
   ]
  },
  {
   "cell_type": "markdown",
   "metadata": {},
   "source": [
    "#### 1. 시계열수치입력 수치예측 모델\n",
    "\n",
    "https://tykimos.github.io/2017/09/09/Time-series_Numerical_Input_Numerical_Prediction_Model_Recipe/"
   ]
  },
  {
   "cell_type": "markdown",
   "metadata": {},
   "source": [
    "#### 2. 딥러닝 학습과정 표시하기\n",
    "\n",
    "https://tykimos.github.io/2017/07/09/Training_Monitoring/"
   ]
  },
  {
   "cell_type": "markdown",
   "metadata": {},
   "source": [
    "#### 3. 인공지능 로또(딥로또)\n",
    "\n",
    "https://tykimos.github.io/2020/01/25/keras_lstm_lotto_v895/"
   ]
  },
  {
   "cell_type": "markdown",
   "metadata": {},
   "source": [
    "#### 4. 딥러닝을 이용한 재실정보 기반 건물의 전기 수요 예측 모델\n",
    "\n",
    "http://journal.auric.kr/kjacr/XmlViewer/f381573"
   ]
  },
  {
   "cell_type": "markdown",
   "metadata": {},
   "source": [
    "#### 5. How to pick the best learning rate for your machine learning project\n",
    "\n",
    "https://medium.com/octavian-ai/which-optimizer-and-learning-rate-should-i-use-for-deep-learning-5acb418f9b2"
   ]
  },
  {
   "cell_type": "code",
   "execution_count": null,
   "metadata": {},
   "outputs": [],
   "source": []
  }
 ],
 "metadata": {
  "kernelspec": {
   "display_name": "Python 3",
   "language": "python",
   "name": "python3"
  },
  "language_info": {
   "codemirror_mode": {
    "name": "ipython",
    "version": 3
   },
   "file_extension": ".py",
   "mimetype": "text/x-python",
   "name": "python",
   "nbconvert_exporter": "python",
   "pygments_lexer": "ipython3",
   "version": "3.7.6"
  }
 },
 "nbformat": 4,
 "nbformat_minor": 4
}
